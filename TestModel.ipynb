{
 "cells": [
  {
   "cell_type": "code",
   "execution_count": 1,
   "metadata": {},
   "outputs": [],
   "source": [
    "from tensorflow import keras\n",
    "from title import standardize_data\n",
    "from non_title import standardize_tags\n",
    "import pandas as pd\n",
    "import pickle\n",
    "from pytube import YouTube\n",
    "from sklearn.preprocessing import StandardScaler\n",
    "from dataframe_creator import create_matrix_pruned_tags\n",
    "\n",
    "model = keras.models.load_model('model')\n",
    "model_rf_preprocess = pickle.load(open(\"model_rf_preprocess.pickle\",\"rb\"))\n",
    "module_count_vector = pickle.load(open(\"module_count_vector.pickle\",\"rb\"))"
   ]
  },
  {
   "cell_type": "code",
   "execution_count": 24,
   "metadata": {},
   "outputs": [
    {
     "name": "stdout",
     "output_type": "stream",
     "text": [
      "Không phù hợp\n"
     ]
    }
   ],
   "source": [
    "from transform_input import transform_input\n",
    "test_df = transform_input(\"https://www.youtube.com/watch?v=7UWOA9Afbxw\", model_rf_preprocess, module_count_vector)\n",
    "pre = model.predict_classes(test_df.values)\n",
    "if (pre == 0):\n",
    "    print('Phù hợp')\n",
    "elif (pre == 1):\n",
    "    print('Trung gian')\n",
    "else:\n",
    "    print('Không phù hợp')"
   ]
  },
  {
   "cell_type": "code",
   "execution_count": null,
   "metadata": {},
   "outputs": [],
   "source": []
  }
 ],
 "metadata": {
  "kernelspec": {
   "display_name": "Python 3",
   "language": "python",
   "name": "python3"
  },
  "language_info": {
   "codemirror_mode": {
    "name": "ipython",
    "version": 3
   },
   "file_extension": ".py",
   "mimetype": "text/x-python",
   "name": "python",
   "nbconvert_exporter": "python",
   "pygments_lexer": "ipython3",
   "version": "3.8.3"
  }
 },
 "nbformat": 4,
 "nbformat_minor": 4
}
