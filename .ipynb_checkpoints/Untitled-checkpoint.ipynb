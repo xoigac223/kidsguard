{
 "cells": [
  {
   "cell_type": "code",
   "execution_count": null,
   "metadata": {},
   "outputs": [
    {
     "name": "stdout",
     "output_type": "stream",
     "text": [
      " * Serving Flask app \"__main__\" (lazy loading)\n",
      " * Environment: production\n",
      "   WARNING: This is a development server. Do not use it in a production deployment.\n",
      "   Use a production WSGI server instead.\n",
      " * Debug mode: off\n"
     ]
    },
    {
     "name": "stderr",
     "output_type": "stream",
     "text": [
      " * Running on http://127.0.0.1:8080/ (Press CTRL+C to quit)\n",
      "127.0.0.1 - - [20/Dec/2020 13:03:20] \"\u001b[33mGET / HTTP/1.1\u001b[0m\" 404 -\n",
      "127.0.0.1 - - [20/Dec/2020 13:03:36] \"\u001b[33mGET /predict/https://www.youtube.com/watch?v=7UWOA9Afbxw HTTP/1.1\u001b[0m\" 404 -\n",
      "127.0.0.1 - - [20/Dec/2020 13:03:39] \"\u001b[33mGET /predict/https://www.youtube.com/watch?v=7UWOA9Afbxw HTTP/1.1\u001b[0m\" 404 -\n",
      "127.0.0.1 - - [20/Dec/2020 13:04:13] \"\u001b[33mGET /predict/https://www.youtube.com/watch?v=7UWOA9Afbxw HTTP/1.1\u001b[0m\" 404 -\n",
      "127.0.0.1 - - [20/Dec/2020 13:04:42] \"\u001b[31m\u001b[1mGET /predict/a HTTP/1.1\u001b[0m\" 405 -\n"
     ]
    }
   ],
   "source": [
    "from flask import Flask, jsonify\n",
    "from tensorflow import keras\n",
    "from transform_input import transform_input\n",
    "import pickle\n",
    "\n",
    "app = Flask(__name__)\n",
    "\n",
    "@app.route('/predict/<id_link>', methods=['POST'])\n",
    "def predict(id_link):\n",
    "    from transform_input import transform_input\n",
    "    test_df = transform_input(link, model_rf_preprocess, module_count_vector)\n",
    "    pre = model.predict_classes(test_df.values)\n",
    "    print(pre)\n",
    "    return jsonify({'prediction': str(pre)})\n",
    "\n",
    "if __name__ == '__main__':\n",
    "    model = keras.models.load_model('model')\n",
    "    model_rf_preprocess = pickle.load(open(\"model_rf_preprocess.pickle\",\"rb\"))\n",
    "    module_count_vector = pickle.load(open(\"module_count_vector.pickle\",\"rb\"))\n",
    "    app.run(port=8080)"
   ]
  },
  {
   "cell_type": "code",
   "execution_count": null,
   "metadata": {},
   "outputs": [],
   "source": []
  }
 ],
 "metadata": {
  "kernelspec": {
   "display_name": "Python 3",
   "language": "python",
   "name": "python3"
  },
  "language_info": {
   "codemirror_mode": {
    "name": "ipython",
    "version": 3
   },
   "file_extension": ".py",
   "mimetype": "text/x-python",
   "name": "python",
   "nbconvert_exporter": "python",
   "pygments_lexer": "ipython3",
   "version": "3.8.3"
  }
 },
 "nbformat": 4,
 "nbformat_minor": 4
}
