{
 "cells": [
  {
   "cell_type": "code",
   "execution_count": 1,
   "metadata": {},
   "outputs": [],
   "source": [
    "from tensorflow import keras\n",
    "from title import standardize_data\n",
    "from non_title import standardize_tags\n",
    "import pandas as pd\n",
    "import pickle\n",
    "from pytube import YouTube\n",
    "from sklearn.preprocessing import StandardScaler\n",
    "from dataframe_creator import create_matrix_pruned_tags\n",
    "\n",
    "model = keras.models.load_model('model')\n",
    "model_rf_preprocess = pickle.load(open(\"model_rf_preprocess.pickle\",\"rb\"))\n",
    "module_count_vector = pickle.load(open(\"module_count_vector.pickle\",\"rb\"))"
   ]
  },
  {
   "cell_type": "code",
   "execution_count": 2,
   "metadata": {},
   "outputs": [
    {
     "name": "stdout",
     "output_type": "stream",
     "text": [
      "WARNING:tensorflow:From <ipython-input-2-caac19ff2e4a>:3: Sequential.predict_classes (from tensorflow.python.keras.engine.sequential) is deprecated and will be removed after 2021-01-01.\n",
      "Instructions for updating:\n",
      "Please use instead:* `np.argmax(model.predict(x), axis=-1)`,   if your model does multi-class classification   (e.g. if it uses a `softmax` last-layer activation).* `(model.predict(x) > 0.5).astype(\"int32\")`,   if your model does binary classification   (e.g. if it uses a `sigmoid` last-layer activation).\n",
      "Không phù hợp\n"
     ]
    }
   ],
   "source": [
    "from transform_input import transform_input\n",
    "test_df = transform_input(\"https://www.youtube.com/watch?v=yrPIlWfM75o\", model_rf_preprocess, module_count_vector)\n",
    "pre = model.predict_classes(test_df.values)\n",
    "if (pre == 0):\n",
    "    print('Phù hợp')\n",
    "elif (pre == 1):\n",
    "    print('Trung gian')\n",
    "else:\n",
    "    print('Không phù hợp')"
   ]
  },
  {
   "cell_type": "code",
   "execution_count": null,
   "metadata": {},
   "outputs": [],
   "source": []
  }
 ],
 "metadata": {
  "kernelspec": {
   "display_name": "Python 3",
   "language": "python",
   "name": "python3"
  },
  "language_info": {
   "codemirror_mode": {
    "name": "ipython",
    "version": 3
   },
   "file_extension": ".py",
   "mimetype": "text/x-python",
   "name": "python",
   "nbconvert_exporter": "python",
   "pygments_lexer": "ipython3",
   "version": "3.8.3"
  }
 },
 "nbformat": 4,
 "nbformat_minor": 4
}
